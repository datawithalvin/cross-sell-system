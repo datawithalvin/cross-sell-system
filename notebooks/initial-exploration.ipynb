{
 "cells": [
  {
   "cell_type": "code",
   "execution_count": 1,
   "metadata": {},
   "outputs": [],
   "source": [
    "import pandas as pd\n",
    "import duckdb\n",
    "import altair as alt"
   ]
  },
  {
   "cell_type": "code",
   "execution_count": 2,
   "metadata": {},
   "outputs": [],
   "source": [
    "# build connection ke duckdb\n",
    "conn = duckdb.connect('../data/instacart.db')"
   ]
  },
  {
   "cell_type": "code",
   "execution_count": 3,
   "metadata": {},
   "outputs": [],
   "source": [
    "def run_query(query):\n",
    "    return conn.execute(query).fetchdf()"
   ]
  },
  {
   "cell_type": "code",
   "execution_count": 4,
   "metadata": {},
   "outputs": [
    {
     "name": "stdout",
     "output_type": "stream",
     "text": [
      "Tables information:                      name\n",
      "0                 aisles\n",
      "1            departments\n",
      "2  order_products__prior\n",
      "3  order_products__train\n",
      "4                 orders\n",
      "5               products\n"
     ]
    }
   ],
   "source": [
    "print(\"Tables information: \", run_query(\"SHOW TABLES\"))"
   ]
  },
  {
   "cell_type": "markdown",
   "metadata": {},
   "source": [
    "explore `orders` table"
   ]
  },
  {
   "cell_type": "code",
   "execution_count": 9,
   "metadata": {},
   "outputs": [
    {
     "name": "stdout",
     "output_type": "stream",
     "text": [
      "orders: \n"
     ]
    },
    {
     "data": {
      "text/html": [
       "<div>\n",
       "<style scoped>\n",
       "    .dataframe tbody tr th:only-of-type {\n",
       "        vertical-align: middle;\n",
       "    }\n",
       "\n",
       "    .dataframe tbody tr th {\n",
       "        vertical-align: top;\n",
       "    }\n",
       "\n",
       "    .dataframe thead th {\n",
       "        text-align: right;\n",
       "    }\n",
       "</style>\n",
       "<table border=\"1\" class=\"dataframe\">\n",
       "  <thead>\n",
       "    <tr style=\"text-align: right;\">\n",
       "      <th></th>\n",
       "      <th>order_id</th>\n",
       "      <th>user_id</th>\n",
       "      <th>eval_set</th>\n",
       "      <th>order_number</th>\n",
       "      <th>order_dow</th>\n",
       "      <th>order_hour_of_day</th>\n",
       "      <th>days_since_prior_order</th>\n",
       "    </tr>\n",
       "  </thead>\n",
       "  <tbody>\n",
       "    <tr>\n",
       "      <th>0</th>\n",
       "      <td>2539329</td>\n",
       "      <td>1</td>\n",
       "      <td>prior</td>\n",
       "      <td>1</td>\n",
       "      <td>2</td>\n",
       "      <td>8</td>\n",
       "      <td>NaN</td>\n",
       "    </tr>\n",
       "    <tr>\n",
       "      <th>1</th>\n",
       "      <td>2398795</td>\n",
       "      <td>1</td>\n",
       "      <td>prior</td>\n",
       "      <td>2</td>\n",
       "      <td>3</td>\n",
       "      <td>7</td>\n",
       "      <td>15.0</td>\n",
       "    </tr>\n",
       "    <tr>\n",
       "      <th>2</th>\n",
       "      <td>473747</td>\n",
       "      <td>1</td>\n",
       "      <td>prior</td>\n",
       "      <td>3</td>\n",
       "      <td>3</td>\n",
       "      <td>12</td>\n",
       "      <td>21.0</td>\n",
       "    </tr>\n",
       "    <tr>\n",
       "      <th>3</th>\n",
       "      <td>2254736</td>\n",
       "      <td>1</td>\n",
       "      <td>prior</td>\n",
       "      <td>4</td>\n",
       "      <td>4</td>\n",
       "      <td>7</td>\n",
       "      <td>29.0</td>\n",
       "    </tr>\n",
       "    <tr>\n",
       "      <th>4</th>\n",
       "      <td>431534</td>\n",
       "      <td>1</td>\n",
       "      <td>prior</td>\n",
       "      <td>5</td>\n",
       "      <td>4</td>\n",
       "      <td>15</td>\n",
       "      <td>28.0</td>\n",
       "    </tr>\n",
       "    <tr>\n",
       "      <th>5</th>\n",
       "      <td>3367565</td>\n",
       "      <td>1</td>\n",
       "      <td>prior</td>\n",
       "      <td>6</td>\n",
       "      <td>2</td>\n",
       "      <td>7</td>\n",
       "      <td>19.0</td>\n",
       "    </tr>\n",
       "    <tr>\n",
       "      <th>6</th>\n",
       "      <td>550135</td>\n",
       "      <td>1</td>\n",
       "      <td>prior</td>\n",
       "      <td>7</td>\n",
       "      <td>1</td>\n",
       "      <td>9</td>\n",
       "      <td>20.0</td>\n",
       "    </tr>\n",
       "    <tr>\n",
       "      <th>7</th>\n",
       "      <td>3108588</td>\n",
       "      <td>1</td>\n",
       "      <td>prior</td>\n",
       "      <td>8</td>\n",
       "      <td>1</td>\n",
       "      <td>14</td>\n",
       "      <td>14.0</td>\n",
       "    </tr>\n",
       "    <tr>\n",
       "      <th>8</th>\n",
       "      <td>2295261</td>\n",
       "      <td>1</td>\n",
       "      <td>prior</td>\n",
       "      <td>9</td>\n",
       "      <td>1</td>\n",
       "      <td>16</td>\n",
       "      <td>0.0</td>\n",
       "    </tr>\n",
       "    <tr>\n",
       "      <th>9</th>\n",
       "      <td>2550362</td>\n",
       "      <td>1</td>\n",
       "      <td>prior</td>\n",
       "      <td>10</td>\n",
       "      <td>4</td>\n",
       "      <td>8</td>\n",
       "      <td>30.0</td>\n",
       "    </tr>\n",
       "  </tbody>\n",
       "</table>\n",
       "</div>"
      ],
      "text/plain": [
       "   order_id  user_id eval_set  order_number  order_dow  order_hour_of_day  \\\n",
       "0   2539329        1    prior             1          2                  8   \n",
       "1   2398795        1    prior             2          3                  7   \n",
       "2    473747        1    prior             3          3                 12   \n",
       "3   2254736        1    prior             4          4                  7   \n",
       "4    431534        1    prior             5          4                 15   \n",
       "5   3367565        1    prior             6          2                  7   \n",
       "6    550135        1    prior             7          1                  9   \n",
       "7   3108588        1    prior             8          1                 14   \n",
       "8   2295261        1    prior             9          1                 16   \n",
       "9   2550362        1    prior            10          4                  8   \n",
       "\n",
       "   days_since_prior_order  \n",
       "0                     NaN  \n",
       "1                    15.0  \n",
       "2                    21.0  \n",
       "3                    29.0  \n",
       "4                    28.0  \n",
       "5                    19.0  \n",
       "6                    20.0  \n",
       "7                    14.0  \n",
       "8                     0.0  \n",
       "9                    30.0  "
      ]
     },
     "execution_count": 9,
     "metadata": {},
     "output_type": "execute_result"
    }
   ],
   "source": [
    "sample_orders = run_query(\"SELECT * FROM orders LIMIT 10\")\n",
    "print(\"orders: \")\n",
    "sample_orders"
   ]
  },
  {
   "cell_type": "code",
   "execution_count": 21,
   "metadata": {},
   "outputs": [
    {
     "data": {
      "text/html": [
       "<div>\n",
       "<style scoped>\n",
       "    .dataframe tbody tr th:only-of-type {\n",
       "        vertical-align: middle;\n",
       "    }\n",
       "\n",
       "    .dataframe tbody tr th {\n",
       "        vertical-align: top;\n",
       "    }\n",
       "\n",
       "    .dataframe thead th {\n",
       "        text-align: right;\n",
       "    }\n",
       "</style>\n",
       "<table border=\"1\" class=\"dataframe\">\n",
       "  <thead>\n",
       "    <tr style=\"text-align: right;\">\n",
       "      <th></th>\n",
       "      <th>total_orders</th>\n",
       "      <th>unique_order_id</th>\n",
       "      <th>unique_users</th>\n",
       "      <th>unique_eval_set</th>\n",
       "      <th>avg_days_between_orders</th>\n",
       "      <th>avg_order_hour_of_day</th>\n",
       "    </tr>\n",
       "  </thead>\n",
       "  <tbody>\n",
       "    <tr>\n",
       "      <th>0</th>\n",
       "      <td>3421083</td>\n",
       "      <td>3421083</td>\n",
       "      <td>206209</td>\n",
       "      <td>3</td>\n",
       "      <td>11.11</td>\n",
       "      <td>13.45</td>\n",
       "    </tr>\n",
       "  </tbody>\n",
       "</table>\n",
       "</div>"
      ],
      "text/plain": [
       "   total_orders  unique_order_id  unique_users  unique_eval_set  \\\n",
       "0       3421083          3421083        206209                3   \n",
       "\n",
       "   avg_days_between_orders  avg_order_hour_of_day  \n",
       "0                    11.11                  13.45  "
      ]
     },
     "execution_count": 21,
     "metadata": {},
     "output_type": "execute_result"
    }
   ],
   "source": [
    "orders_stats = run_query(\n",
    "    \"\"\"\n",
    "    SELECT\n",
    "        COUNT(*) AS total_orders,\n",
    "        COUNT(DISTINCT order_id) AS unique_order_id,\n",
    "        COUNT(DISTINCT user_id) AS unique_users,\n",
    "        COUNT(DISTINCT eval_set) AS unique_eval_set,\n",
    "        ROUND(AVG(days_since_prior_order), 2) AS avg_days_between_orders,\n",
    "        ROUND(AVG(order_hour_of_day), 2) AS avg_order_hour_of_day,\n",
    "    FROM orders\n",
    "\"\"\"\n",
    ")\n",
    "\n",
    "orders_stats"
   ]
  },
  {
   "cell_type": "code",
   "execution_count": 20,
   "metadata": {},
   "outputs": [
    {
     "data": {
      "text/html": [
       "<div>\n",
       "<style scoped>\n",
       "    .dataframe tbody tr th:only-of-type {\n",
       "        vertical-align: middle;\n",
       "    }\n",
       "\n",
       "    .dataframe tbody tr th {\n",
       "        vertical-align: top;\n",
       "    }\n",
       "\n",
       "    .dataframe thead th {\n",
       "        text-align: right;\n",
       "    }\n",
       "</style>\n",
       "<table border=\"1\" class=\"dataframe\">\n",
       "  <thead>\n",
       "    <tr style=\"text-align: right;\">\n",
       "      <th></th>\n",
       "      <th>order_id_null_perc</th>\n",
       "      <th>user_id_null_perc</th>\n",
       "      <th>eval_set_null_perc</th>\n",
       "      <th>order_number_null_perc</th>\n",
       "      <th>order_dow_null_perc</th>\n",
       "      <th>order_hour_of_day_null_perc</th>\n",
       "      <th>days_since_prior_order_null_perc</th>\n",
       "    </tr>\n",
       "  </thead>\n",
       "  <tbody>\n",
       "    <tr>\n",
       "      <th>0</th>\n",
       "      <td>0.0</td>\n",
       "      <td>0.0</td>\n",
       "      <td>0.0</td>\n",
       "      <td>0.0</td>\n",
       "      <td>0.0</td>\n",
       "      <td>0.0</td>\n",
       "      <td>6.027594</td>\n",
       "    </tr>\n",
       "  </tbody>\n",
       "</table>\n",
       "</div>"
      ],
      "text/plain": [
       "   order_id_null_perc  user_id_null_perc  eval_set_null_perc  \\\n",
       "0                 0.0                0.0                 0.0   \n",
       "\n",
       "   order_number_null_perc  order_dow_null_perc  order_hour_of_day_null_perc  \\\n",
       "0                     0.0                  0.0                          0.0   \n",
       "\n",
       "   days_since_prior_order_null_perc  \n",
       "0                          6.027594  "
      ]
     },
     "execution_count": 20,
     "metadata": {},
     "output_type": "execute_result"
    }
   ],
   "source": [
    "order_nulls = run_query(\n",
    "    \"\"\"\n",
    "    SELECT \n",
    "        (COUNT(*) - COUNT(order_id)) * 100.0 / COUNT(*) AS order_id_null_perc,\n",
    "        (COUNT(*) - COUNT(user_id)) * 100.0 / COUNT(*) AS user_id_null_perc,\n",
    "        (COUNT(*) - COUNT(eval_set)) * 100.0 / COUNT(*) AS eval_set_null_perc,\n",
    "        (COUNT(*) - COUNT(order_number)) * 100.0 / COUNT(*) AS order_number_null_perc,\n",
    "        (COUNT(*) - COUNT(order_dow)) * 100.0 / COUNT(*) AS order_dow_null_perc,\n",
    "        (COUNT(*) - COUNT(order_hour_of_day)) * 100.0 / COUNT(*) AS order_hour_of_day_null_perc,\n",
    "        (COUNT(*) - COUNT(days_since_prior_order)) * 100.0 / COUNT(*) AS days_since_prior_order_null_perc\n",
    "    FROM orders\n",
    "\"\"\"\n",
    ")\n",
    "order_nulls"
   ]
  },
  {
   "cell_type": "code",
   "execution_count": 24,
   "metadata": {},
   "outputs": [
    {
     "data": {
      "text/html": [
       "<div>\n",
       "<style scoped>\n",
       "    .dataframe tbody tr th:only-of-type {\n",
       "        vertical-align: middle;\n",
       "    }\n",
       "\n",
       "    .dataframe tbody tr th {\n",
       "        vertical-align: top;\n",
       "    }\n",
       "\n",
       "    .dataframe thead th {\n",
       "        text-align: right;\n",
       "    }\n",
       "</style>\n",
       "<table border=\"1\" class=\"dataframe\">\n",
       "  <thead>\n",
       "    <tr style=\"text-align: right;\">\n",
       "      <th></th>\n",
       "      <th>avg_orders_per_cust</th>\n",
       "      <th>median_orders_per_cust</th>\n",
       "      <th>min_orders</th>\n",
       "      <th>max_orders</th>\n",
       "    </tr>\n",
       "  </thead>\n",
       "  <tbody>\n",
       "    <tr>\n",
       "      <th>0</th>\n",
       "      <td>16.59</td>\n",
       "      <td>10.0</td>\n",
       "      <td>4</td>\n",
       "      <td>100</td>\n",
       "    </tr>\n",
       "  </tbody>\n",
       "</table>\n",
       "</div>"
      ],
      "text/plain": [
       "   avg_orders_per_cust  median_orders_per_cust  min_orders  max_orders\n",
       "0                16.59                    10.0           4         100"
      ]
     },
     "execution_count": 24,
     "metadata": {},
     "output_type": "execute_result"
    }
   ],
   "source": [
    "avg_orders = run_query(\n",
    "    \"\"\"\n",
    "    SELECT\n",
    "        ROUND(AVG(order_count), 2) AS avg_orders_per_cust,\n",
    "        MEDIAN(order_count) AS median_orders_per_cust,\n",
    "        MIN(order_count) AS min_orders,\n",
    "        MAX(order_count) AS max_orders,\n",
    "    FROM (\n",
    "        SELECT user_id, COUNT(*) as order_count\n",
    "        FROM orders\n",
    "        GROUP BY user_id\n",
    "    )\n",
    "\"\"\"\n",
    ")\n",
    "\n",
    "avg_orders"
   ]
  },
  {
   "cell_type": "code",
   "execution_count": null,
   "metadata": {},
   "outputs": [],
   "source": []
  },
  {
   "cell_type": "code",
   "execution_count": null,
   "metadata": {},
   "outputs": [],
   "source": []
  },
  {
   "cell_type": "code",
   "execution_count": null,
   "metadata": {},
   "outputs": [],
   "source": []
  }
 ],
 "metadata": {
  "kernelspec": {
   "display_name": ".venv",
   "language": "python",
   "name": "python3"
  },
  "language_info": {
   "codemirror_mode": {
    "name": "ipython",
    "version": 3
   },
   "file_extension": ".py",
   "mimetype": "text/x-python",
   "name": "python",
   "nbconvert_exporter": "python",
   "pygments_lexer": "ipython3",
   "version": "3.10.13"
  }
 },
 "nbformat": 4,
 "nbformat_minor": 2
}
